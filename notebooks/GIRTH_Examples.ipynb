{
 "cells": [
  {
   "cell_type": "markdown",
   "id": "03fbd131-df8c-47b9-8b17-860bf2226e45",
   "metadata": {},
   "source": [
    "## Import Required Packages"
   ]
  },
  {
   "cell_type": "code",
   "execution_count": null,
   "id": "73bf9738-5bf4-47f5-b3d9-7778df0629f2",
   "metadata": {},
   "outputs": [],
   "source": [
    "import numpy as np\n",
    "from girth.synthetic import create_synthetic_irt_dichotomous, create_synthetic_irt_polytomous\n",
    "from girth import twopl_mml, onepl_mml, pcm_mml, multidimensional_twopl_mml\n",
    "from girth import ability_map\n",
    "from girth import tag_missing_data, validate_estimation_options"
   ]
  },
  {
   "cell_type": "markdown",
   "id": "abe5e0bf-a315-40cc-b8f2-a6f56997e311",
   "metadata": {},
   "source": [
    "## Show the processing options"
   ]
  },
  {
   "cell_type": "code",
   "execution_count": null,
   "id": "a104e086-6777-4759-9cc2-d389908735c3",
   "metadata": {},
   "outputs": [],
   "source": [
    "validate_estimation_options().keys()"
   ]
  },
  {
   "cell_type": "markdown",
   "id": "c7736104-cb60-485a-bd31-091a8dddab08",
   "metadata": {},
   "source": [
    "## Run the 2PL Model"
   ]
  },
  {
   "cell_type": "code",
   "execution_count": null,
   "id": "dc0bd374-2802-4809-8c8c-8cae7660ccde",
   "metadata": {},
   "outputs": [],
   "source": [
    "# Simulation Parameters\n",
    "n_items = 25\n",
    "n_people = 500\n",
    "\n",
    "# Create Synthetic Data\n",
    "difficulty = np.linspace(-2.5, 2.5, n_items)\n",
    "discrimination = np.random.rand(n_items) + 0.5\n",
    "theta = np.random.randn(n_people)\n",
    "\n",
    "syn_data = create_synthetic_irt_dichotomous(difficulty, discrimination, theta)\n",
    "\n",
    "# Solve for parameters\n",
    "results = twopl_mml(syn_data)\n",
    "\n",
    "# Print all the keys in the results\n",
    "print(results.keys())"
   ]
  },
  {
   "cell_type": "markdown",
   "id": "c0859801-1dfa-43c9-a58e-fb2b129c79c0",
   "metadata": {},
   "source": [
    "## Compare the Results"
   ]
  },
  {
   "cell_type": "code",
   "execution_count": null,
   "id": "1b4f4c2f-d535-4a36-9800-a55dfac300a8",
   "metadata": {},
   "outputs": [],
   "source": [
    "list(zip(discrimination.round(3), results['Discrimination'].round(3)))"
   ]
  },
  {
   "cell_type": "markdown",
   "id": "e81d1582-5eb8-42b5-920d-b6bbbc825f8c",
   "metadata": {},
   "source": [
    "## Run the 1PL Model"
   ]
  },
  {
   "cell_type": "code",
   "execution_count": null,
   "id": "bf9140af-f645-442b-85e9-7ec6ac34ab5c",
   "metadata": {},
   "outputs": [],
   "source": [
    "# Simulation Parameters\n",
    "n_items = 25\n",
    "n_people = 500\n",
    "\n",
    "# Create Synthetic Data\n",
    "difficulty = np.linspace(-2.5, 2.5, n_items)\n",
    "discrimination = 1.15\n",
    "theta = np.random.randn(n_people)\n",
    "\n",
    "syn_data = create_synthetic_irt_dichotomous(difficulty, discrimination, theta)\n",
    "\n",
    "# Solve for parameters\n",
    "results = onepl_mml(syn_data)\n",
    "\n",
    "# Print all the keys in the results\n",
    "print(results.keys())\n",
    "\n",
    "# There isn't any ability in the dictionary, use the supplied functions\n",
    "onepl_ability = ability_map(syn_data, results['Difficulty'], results['Discrimination'])\n",
    "\n",
    "print(f\"True vs Recovered Discrimination: {discrimination} : {results['Discrimination'].round(2)}\")"
   ]
  },
  {
   "cell_type": "markdown",
   "id": "b8949778-f46d-42bc-8e37-ae303d9521bc",
   "metadata": {},
   "source": [
    "## Note: \n",
    "The ```The rasch_mml``` and ```rasch_jml``` assume an underlying standardized normal distribution which is a constrained parameterization. This implementation was chosen so models are nested. The \"traditional\" Rasch model is the ```onepl_mml``` and ```onepl_jml``` methods. If one runs ```rasch_conditional``` then the standard deviation is reflected in the difficulty estimates"
   ]
  },
  {
   "cell_type": "code",
   "execution_count": null,
   "id": "ac116495-6af1-4011-ab65-dfef90340622",
   "metadata": {},
   "outputs": [],
   "source": [
    "from girth import rasch_conditional\n",
    "\n",
    "results_conditional = rasch_conditional(syn_data)\n",
    "conditional_ability = ability_map(syn_data, results_conditional['Difficulty'], results_conditional['Discrimination'])\n",
    "\n",
    "print(results_conditional['Difficulty'].std(ddof=1)/ results['Difficulty'].std(ddof=1),\n",
    "      results['Discrimination'])"
   ]
  },
  {
   "cell_type": "markdown",
   "id": "befe4e67-a765-4b4a-8eee-1cb9d6812724",
   "metadata": {},
   "source": [
    "## Generalized Partial Credit Polytomous Model"
   ]
  },
  {
   "cell_type": "code",
   "execution_count": null,
   "id": "e375d765-5ffb-4f66-a205-d15167b01b82",
   "metadata": {},
   "outputs": [],
   "source": [
    "# Simulation Parameters\n",
    "n_items = 25\n",
    "n_people = 500\n",
    "n_levels = 3\n",
    "\n",
    "# Create Synthetic Data\n",
    "difficulty = np.random.randn(n_items, n_levels)\n",
    "discrimination = np.random.rand(n_items) + 0.5\n",
    "theta = np.random.randn(n_people)\n",
    "\n",
    "syn_data = create_synthetic_irt_polytomous(difficulty, discrimination, theta, model='pcm')\n",
    "\n",
    "# Solve for parameters\n",
    "results = pcm_mml(syn_data)\n",
    "\n",
    "# Print all the keys in the results\n",
    "print(results.keys())\n"
   ]
  },
  {
   "cell_type": "markdown",
   "id": "ac18edf7-13e8-4b85-8de6-19568f3fbf21",
   "metadata": {},
   "source": [
    "## Missing Data Example"
   ]
  },
  {
   "cell_type": "code",
   "execution_count": null,
   "id": "ee0aef13-6fd7-47f5-9619-e9998259720b",
   "metadata": {},
   "outputs": [],
   "source": [
    "# Create Some missing data\n",
    "percent_missing = 10\n",
    "missing_mask = np.random.rand(*syn_data.shape) < (percent_missing / 100)\n",
    "\n",
    "missing_data = syn_data.copy()\n",
    "missing_data[missing_mask] = 29\n",
    "\n",
    "## Tag the missing data to process\n",
    "missing_data = tag_missing_data(missing_data, [1, 2, 3, 4])\n",
    "\n",
    "# Solve for parameters\n",
    "results_missing = pcm_mml(missing_data)\n",
    "\n",
    "# Print all the keys in the results\n",
    "print(results.keys())"
   ]
  },
  {
   "cell_type": "markdown",
   "id": "5d352479-3819-4d54-8274-7c592f1e4773",
   "metadata": {},
   "source": [
    "## Print the difference between full data and missing data results"
   ]
  },
  {
   "cell_type": "code",
   "execution_count": null,
   "id": "2f5c05b7-4c5d-4e0e-b1c1-a9e017bee775",
   "metadata": {},
   "outputs": [],
   "source": [
    "list(zip(results['Discrimination'].round(3), results_missing['Discrimination'].round(3)))"
   ]
  },
  {
   "cell_type": "markdown",
   "id": "26e7edb8-2ad7-49a7-a491-de25211d90a8",
   "metadata": {},
   "source": [
    "## Multidimensional Example"
   ]
  },
  {
   "cell_type": "code",
   "execution_count": null,
   "id": "16bc660d-887c-43c1-a89f-095f29fa4539",
   "metadata": {},
   "outputs": [],
   "source": [
    "# Simulation Parameters\n",
    "n_items = 25\n",
    "n_people = 500\n",
    "n_factors = 2\n",
    "\n",
    "# Create Synthetic Data\n",
    "difficulty = np.linspace(-1, 1, n_items)\n",
    "discrimination = np.random.randn(n_items, n_factors) * .5\n",
    "theta = np.random.randn(n_factors, n_people)\n",
    "\n",
    "# Set a couple values to zeros just for comparison purposes\n",
    "discrimination[-1, -1] = 0\n",
    "discrimination[-1, 0] = np.abs(discrimination[-1, 0])\n",
    "discrimination[-2, -1] = np.abs(discrimination[-2, -1])\n",
    "\n",
    "syn_data = create_synthetic_irt_dichotomous(difficulty, discrimination, theta)\n",
    "\n",
    "# Solve for parameters\n",
    "results = multidimensional_twopl_mml(syn_data, n_factors, {'quadrature_n': 31})\n",
    "\n",
    "# Print all the keys in the results\n",
    "print(results.keys())\n"
   ]
  },
  {
   "cell_type": "markdown",
   "id": "08cf040f-2a94-428d-b37d-bd8898fb15bb",
   "metadata": {},
   "source": [
    "## Plot the difference in recovered values"
   ]
  },
  {
   "cell_type": "code",
   "execution_count": null,
   "id": "a1464c01-1fc2-4473-b4fd-d39c9f624f4b",
   "metadata": {},
   "outputs": [],
   "source": [
    "(results['Discrimination'] - discrimination).round(2)"
   ]
  },
  {
   "cell_type": "code",
   "execution_count": null,
   "id": "0d5c769e-ba82-4478-a06b-66bc67893785",
   "metadata": {},
   "outputs": [],
   "source": []
  }
 ],
 "metadata": {
  "kernelspec": {
   "display_name": "Python 3",
   "language": "python",
   "name": "python3"
  },
  "language_info": {
   "codemirror_mode": {
    "name": "ipython",
    "version": 3
   },
   "file_extension": ".py",
   "mimetype": "text/x-python",
   "name": "python",
   "nbconvert_exporter": "python",
   "pygments_lexer": "ipython3",
   "version": "3.8.8"
  }
 },
 "nbformat": 4,
 "nbformat_minor": 5
}
