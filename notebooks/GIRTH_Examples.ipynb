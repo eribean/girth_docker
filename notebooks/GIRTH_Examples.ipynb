{
 "cells": [
  {
   "cell_type": "markdown",
   "id": "03fbd131-df8c-47b9-8b17-860bf2226e45",
   "metadata": {},
   "source": [
    "## Import Required Packages"
   ]
  },
  {
   "cell_type": "code",
   "execution_count": 3,
   "id": "73bf9738-5bf4-47f5-b3d9-7778df0629f2",
   "metadata": {},
   "outputs": [],
   "source": [
    "import numpy as np\n",
    "from girth.synthetic import create_synthetic_irt_dichotomous\n",
    "from girth import twopl_mml"
   ]
  },
  {
   "cell_type": "markdown",
   "id": "c7736104-cb60-485a-bd31-091a8dddab08",
   "metadata": {},
   "source": [
    "## Run the 2PL Model"
   ]
  },
  {
   "cell_type": "code",
   "execution_count": 5,
   "id": "dc0bd374-2802-4809-8c8c-8cae7660ccde",
   "metadata": {},
   "outputs": [],
   "source": [
    "# Simulation Parameters\n",
    "n_items = 25\n",
    "n_people = 500\n",
    "\n",
    "# Create Synthetic Data\n",
    "difficulty = np.linspace(-2.5, 2.5, n_items)\n",
    "discrimination = np.random.rand(n_items) + 0.5\n",
    "theta = np.random.randn(n_people)\n",
    "\n",
    "syn_data = create_synthetic_irt_dichotomous(difficulty, discrimination, theta)\n",
    "\n",
    "# Solve for parameters\n",
    "results = twopl_mml(syn_data)"
   ]
  },
  {
   "cell_type": "markdown",
   "id": "c0859801-1dfa-43c9-a58e-fb2b129c79c0",
   "metadata": {},
   "source": [
    "## Compare the Results"
   ]
  },
  {
   "cell_type": "code",
   "execution_count": 6,
   "id": "1b4f4c2f-d535-4a36-9800-a55dfac300a8",
   "metadata": {},
   "outputs": [
    {
     "data": {
      "text/plain": [
       "[(0.617, 1.077),\n",
       " (0.954, 0.735),\n",
       " (0.627, 0.528),\n",
       " (1.392, 1.194),\n",
       " (1.328, 1.76),\n",
       " (1.42, 0.995),\n",
       " (1.14, 1.495),\n",
       " (0.608, 0.722),\n",
       " (1.418, 1.433),\n",
       " (1.122, 1.079),\n",
       " (1.437, 1.608),\n",
       " (1.393, 1.314),\n",
       " (0.789, 0.586),\n",
       " (0.574, 0.674),\n",
       " (0.597, 0.669),\n",
       " (1.428, 1.557),\n",
       " (0.58, 0.537),\n",
       " (1.086, 1.102),\n",
       " (1.284, 1.379),\n",
       " (1.075, 0.978),\n",
       " (1.228, 1.046),\n",
       " (1.273, 1.262),\n",
       " (0.928, 0.942),\n",
       " (1.287, 1.484),\n",
       " (0.848, 0.705)]"
      ]
     },
     "execution_count": 6,
     "metadata": {},
     "output_type": "execute_result"
    }
   ],
   "source": [
    "list(zip(discrimination.round(3), results['Discrimination'].round(3)))"
   ]
  },
  {
   "cell_type": "code",
   "execution_count": null,
   "id": "a4750fbc-0aeb-464e-a1a8-c0144cf96386",
   "metadata": {},
   "outputs": [],
   "source": []
  }
 ],
 "metadata": {
  "kernelspec": {
   "display_name": "Python 3",
   "language": "python",
   "name": "python3"
  },
  "language_info": {
   "codemirror_mode": {
    "name": "ipython",
    "version": 3
   },
   "file_extension": ".py",
   "mimetype": "text/x-python",
   "name": "python",
   "nbconvert_exporter": "python",
   "pygments_lexer": "ipython3",
   "version": "3.8.8"
  }
 },
 "nbformat": 4,
 "nbformat_minor": 5
}
