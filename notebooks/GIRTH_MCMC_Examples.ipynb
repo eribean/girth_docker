{
 "cells": [
  {
   "cell_type": "markdown",
   "id": "cc8d0edf-4591-4902-ba6f-0b397990511a",
   "metadata": {},
   "source": [
    "## Import Required Packages"
   ]
  },
  {
   "cell_type": "code",
   "execution_count": null,
   "id": "96c99584-c7fa-41ba-8c43-5d86c9af9f59",
   "metadata": {},
   "outputs": [],
   "source": [
    "import numpy as np\n",
    "from girth.synthetic import create_synthetic_irt_dichotomous, create_synthetic_irt_polytomous\n",
    "from girth_mcmc import GirthMCMC\n",
    "from girth_mcmc.utils import tag_missing_data_mcmc, validate_mcmc_options"
   ]
  },
  {
   "cell_type": "markdown",
   "id": "b273f712-d8d8-47e2-8cde-f9af5f1f31fa",
   "metadata": {},
   "source": [
    "## Show the Processing Options"
   ]
  },
  {
   "cell_type": "code",
   "execution_count": null,
   "id": "e46f4212-9cdd-4dbd-ad66-f6fc0373ad2b",
   "metadata": {},
   "outputs": [],
   "source": [
    "print(validate_mcmc_options().keys())"
   ]
  },
  {
   "cell_type": "markdown",
   "id": "d41506e2-608a-4c9c-b227-bcda8c91a58e",
   "metadata": {},
   "source": [
    "## Run the 2PL model"
   ]
  },
  {
   "cell_type": "code",
   "execution_count": null,
   "id": "af18d77f-7516-45a0-bf82-ab210502e1d5",
   "metadata": {},
   "outputs": [],
   "source": [
    "# Simulation Parameters\n",
    "n_items = 25\n",
    "n_people = 500\n",
    "\n",
    "# Create Synthetic Data\n",
    "\n",
    "discrimination = 0.89 * np.sqrt(-2 * np.log(np.random.rand(n_items)))\n",
    "difficulty = np.random.randn(n_items)\n",
    "theta = np.random.randn(n_people)\n",
    "\n",
    "syn_data = create_synthetic_irt_dichotomous(difficulty, discrimination, \n",
    "                                            theta)\n",
    "\n",
    "girth_model = GirthMCMC(model='2PL', \n",
    "                        options={'n_processors': 2,\n",
    "                                 'n_tune': 5000,\n",
    "                                 'n_samples': 5000})\n",
    "results = girth_model(syn_data)\n"
   ]
  },
  {
   "cell_type": "markdown",
   "id": "1204a40f-5d64-4a3f-97d5-72f51734b387",
   "metadata": {},
   "source": [
    "## Compare the results"
   ]
  },
  {
   "cell_type": "code",
   "execution_count": null,
   "id": "863a0601-d17c-408d-9c55-5718ed5e5be5",
   "metadata": {},
   "outputs": [],
   "source": [
    "list(zip(discrimination.round(3), results['Discrimination'].round(3)))"
   ]
  },
  {
   "cell_type": "markdown",
   "id": "11239d86-1c4b-4755-8d1e-272c21d282bb",
   "metadata": {},
   "source": [
    "## Run a Graded Response Model via Variational Inference"
   ]
  },
  {
   "cell_type": "code",
   "execution_count": null,
   "id": "5fa99fb4-3c01-403b-878b-d2604a7646b4",
   "metadata": {},
   "outputs": [],
   "source": [
    "# Simulation Parameters\n",
    "n_items = 25\n",
    "n_people = 500\n",
    "n_levels = 3\n",
    "\n",
    "# Create Synthetic Data\n",
    "difficulty = np.sort(np.random.randn(n_items, n_levels), axis=1)\n",
    "discrimination = np.random.rand(n_items) + 0.5\n",
    "theta = np.random.randn(n_people)\n",
    "\n",
    "syn_data = create_synthetic_irt_polytomous(difficulty, discrimination, theta, model='grm')\n",
    "\n",
    "# Solve for parameters\n",
    "girth_model = GirthMCMC(model='GRM', model_args=(n_levels+1,),\n",
    "                        options={'variational_inference': True,\n",
    "                                 'variational_samples': 10000,\n",
    "                                 'n_samples': 10000,\n",
    "                                 'n_processors': 2})\n",
    "results = girth_model(syn_data)\n",
    "\n",
    "# Print all the keys in the results\n",
    "print(results.keys())"
   ]
  },
  {
   "cell_type": "markdown",
   "id": "a80f8718-6cc3-4dfd-ade4-ba97b043c25f",
   "metadata": {},
   "source": [
    "## Run with missing data"
   ]
  },
  {
   "cell_type": "code",
   "execution_count": null,
   "id": "347a1a1e-45f6-4425-86b2-01e774d2851c",
   "metadata": {
    "tags": []
   },
   "outputs": [],
   "source": [
    "# Create Some missing data\n",
    "percent_missing = 10\n",
    "missing_mask = np.random.rand(*syn_data.shape) < (percent_missing / 100)\n",
    "\n",
    "missing_data = syn_data.copy()\n",
    "missing_data[missing_mask] = 29\n",
    "\n",
    "## Tag the missing data to process\n",
    "missing_data = tag_missing_data_mcmc(missing_data, [1, 2, 3, 4])\n",
    "\n",
    "# Solve for parameters\n",
    "results_missing = girth_model(missing_data)\n",
    "\n",
    "# Print all the keys in the results\n",
    "print(results.keys())"
   ]
  },
  {
   "cell_type": "markdown",
   "id": "7b3e8b0c-f772-43e4-a743-540dec79dfc1",
   "metadata": {},
   "source": [
    "## Show the difference"
   ]
  },
  {
   "cell_type": "code",
   "execution_count": null,
   "id": "caee9703-50f5-4968-906e-da8c3305aa6a",
   "metadata": {},
   "outputs": [],
   "source": [
    "list(zip(results_missing['Discrimination'].round(2), results['Discrimination'].round(2)))"
   ]
  }
 ],
 "metadata": {
  "kernelspec": {
   "display_name": "Python 3",
   "language": "python",
   "name": "python3"
  },
  "language_info": {
   "codemirror_mode": {
    "name": "ipython",
    "version": 3
   },
   "file_extension": ".py",
   "mimetype": "text/x-python",
   "name": "python",
   "nbconvert_exporter": "python",
   "pygments_lexer": "ipython3",
   "version": "3.8.8"
  }
 },
 "nbformat": 4,
 "nbformat_minor": 5
}
