{
 "cells": [
  {
   "cell_type": "markdown",
   "id": "cc8d0edf-4591-4902-ba6f-0b397990511a",
   "metadata": {},
   "source": [
    "## Import Required Packages"
   ]
  },
  {
   "cell_type": "code",
   "execution_count": 1,
   "id": "96c99584-c7fa-41ba-8c43-5d86c9af9f59",
   "metadata": {},
   "outputs": [],
   "source": [
    "import numpy as np\n",
    "from girth.synthetic import create_synthetic_irt_dichotomous\n",
    "from girth_mcmc import GirthMCMC"
   ]
  },
  {
   "cell_type": "markdown",
   "id": "d41506e2-608a-4c9c-b227-bcda8c91a58e",
   "metadata": {},
   "source": [
    "## Run the 2PL model"
   ]
  },
  {
   "cell_type": "code",
   "execution_count": 5,
   "id": "af18d77f-7516-45a0-bf82-ab210502e1d5",
   "metadata": {},
   "outputs": [
    {
     "name": "stderr",
     "output_type": "stream",
     "text": [
      "Auto-assigning NUTS sampler...\n",
      "Initializing NUTS using jitter+adapt_diag...\n",
      "Multiprocess sampling (2 chains in 2 jobs)\n",
      "NUTS: [Discrimination, Rayleigh_Scale, Difficulty, Difficulty_SD, Ability]\n"
     ]
    },
    {
     "data": {
      "text/html": [
       "\n",
       "    <div>\n",
       "        <style>\n",
       "            /* Turns off some styling */\n",
       "            progress {\n",
       "                /* gets rid of default border in Firefox and Opera. */\n",
       "                border: none;\n",
       "                /* Needs to be in here for Safari polyfill so background images work as expected. */\n",
       "                background-size: auto;\n",
       "            }\n",
       "            .progress-bar-interrupted, .progress-bar-interrupted::-webkit-progress-bar {\n",
       "                background: #F44336;\n",
       "            }\n",
       "        </style>\n",
       "      <progress value='10000' class='' max='10000' style='width:300px; height:20px; vertical-align: middle;'></progress>\n",
       "      100.00% [10000/10000 01:09<00:00 Sampling 2 chains, 0 divergences]\n",
       "    </div>\n",
       "    "
      ],
      "text/plain": [
       "<IPython.core.display.HTML object>"
      ]
     },
     "metadata": {},
     "output_type": "display_data"
    },
    {
     "name": "stderr",
     "output_type": "stream",
     "text": [
      "Sampling 2 chains for 2_500 tune and 2_500 draw iterations (5_000 + 5_000 draws total) took 70 seconds.\n"
     ]
    }
   ],
   "source": [
    "# Simulation Parameters\n",
    "n_items = 25\n",
    "n_people = 500\n",
    "\n",
    "# Create Synthetic Data\n",
    "\n",
    "discrimination = 0.89 * np.sqrt(-2 * np.log(np.random.rand(n_items)))\n",
    "difficulty = np.random.randn(n_items)\n",
    "theta = np.random.randn(n_people)\n",
    "\n",
    "syn_data = create_synthetic_irt_dichotomous(difficulty, discrimination, \n",
    "                                            theta)\n",
    "\n",
    "girth_model = GirthMCMC(model='2PL', \n",
    "                        options={'n_processors': 2,\n",
    "                                 'n_tune': 5000,\n",
    "                                 'n_samples': 5000})\n",
    "results = girth_model(syn_data)\n"
   ]
  },
  {
   "cell_type": "markdown",
   "id": "1204a40f-5d64-4a3f-97d5-72f51734b387",
   "metadata": {},
   "source": [
    "## Compare the results"
   ]
  },
  {
   "cell_type": "code",
   "execution_count": 2,
   "id": "863a0601-d17c-408d-9c55-5718ed5e5be5",
   "metadata": {},
   "outputs": [
    {
     "ename": "NameError",
     "evalue": "name 'discrimination' is not defined",
     "output_type": "error",
     "traceback": [
      "\u001b[0;31m---------------------------------------------------------------------------\u001b[0m",
      "\u001b[0;31mNameError\u001b[0m                                 Traceback (most recent call last)",
      "\u001b[0;32m<ipython-input-2-6dde958ca92c>\u001b[0m in \u001b[0;36m<module>\u001b[0;34m\u001b[0m\n\u001b[0;32m----> 1\u001b[0;31m \u001b[0mlist\u001b[0m\u001b[0;34m(\u001b[0m\u001b[0mzip\u001b[0m\u001b[0;34m(\u001b[0m\u001b[0mdiscrimination\u001b[0m\u001b[0;34m.\u001b[0m\u001b[0mround\u001b[0m\u001b[0;34m(\u001b[0m\u001b[0;36m3\u001b[0m\u001b[0;34m)\u001b[0m\u001b[0;34m,\u001b[0m \u001b[0mresults\u001b[0m\u001b[0;34m[\u001b[0m\u001b[0;34m'Discrimination'\u001b[0m\u001b[0;34m]\u001b[0m\u001b[0;34m.\u001b[0m\u001b[0mround\u001b[0m\u001b[0;34m(\u001b[0m\u001b[0;36m3\u001b[0m\u001b[0;34m)\u001b[0m\u001b[0;34m)\u001b[0m\u001b[0;34m)\u001b[0m\u001b[0;34m\u001b[0m\u001b[0;34m\u001b[0m\u001b[0m\n\u001b[0m",
      "\u001b[0;31mNameError\u001b[0m: name 'discrimination' is not defined"
     ]
    }
   ],
   "source": [
    "list(zip(discrimination.round(3), results['Discrimination'].round(3)))"
   ]
  },
  {
   "cell_type": "code",
   "execution_count": null,
   "id": "a253f15f-d01c-445c-931e-261c9079bf52",
   "metadata": {},
   "outputs": [],
   "source": []
  }
 ],
 "metadata": {
  "kernelspec": {
   "display_name": "Python 3",
   "language": "python",
   "name": "python3"
  },
  "language_info": {
   "codemirror_mode": {
    "name": "ipython",
    "version": 3
   },
   "file_extension": ".py",
   "mimetype": "text/x-python",
   "name": "python",
   "nbconvert_exporter": "python",
   "pygments_lexer": "ipython3",
   "version": "3.8.8"
  }
 },
 "nbformat": 4,
 "nbformat_minor": 5
}
